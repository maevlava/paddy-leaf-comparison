{
  "cells": [
    {
      "cell_type": "markdown",
      "source": [
        "# Imports"
      ],
      "metadata": {
        "id": "n8QFbrvN_UNU"
      },
      "id": "n8QFbrvN_UNU"
    },
    {
      "cell_type": "code",
      "source": [
        "# Files\n",
        "import os\n",
        "\n",
        "# Linear Algebra\n",
        "import numpy as np\n",
        "\n",
        "# Multi thread & processing\n",
        "import multiprocessing\n",
        "\n",
        "# Visualization\n",
        "import matplotlib.pyplot as plt\n",
        "import seaborn as sns\n",
        "\n",
        "# Machine learning general and Data Modelling\n",
        "import pandas as pd\n",
        "import sklearn\n",
        "from sklearn.cluster import KMeans\n",
        "from sklearn.metrics import pairwise_distances\n",
        "\n",
        "# Image processing\n",
        "import cv2"
      ],
      "metadata": {
        "id": "nTJxYE1c73B4"
      },
      "id": "nTJxYE1c73B4",
      "execution_count": 9,
      "outputs": []
    },
    {
      "cell_type": "code",
      "source": [
        "from google.colab import drive\n",
        "drive.mount('/content/drive')"
      ],
      "metadata": {
        "id": "GIzdsJew7svu",
        "outputId": "b6e48353-d1c3-45dc-9c6d-dd9fcd11864f",
        "colab": {
          "base_uri": "https://localhost:8080/"
        }
      },
      "id": "GIzdsJew7svu",
      "execution_count": 16,
      "outputs": [
        {
          "output_type": "stream",
          "name": "stdout",
          "text": [
            "Drive already mounted at /content/drive; to attempt to forcibly remount, call drive.mount(\"/content/drive\", force_remount=True).\n"
          ]
        }
      ]
    },
    {
      "cell_type": "markdown",
      "source": [
        "# Prepare Dataset"
      ],
      "metadata": {
        "id": "7-N8TejO8FEK"
      },
      "id": "7-N8TejO8FEK"
    },
    {
      "cell_type": "code",
      "source": [
        "def get_list_of_files(directory):\n",
        "  allFiles = []\n",
        "  for root, dirs, files in os.walk(directory):\n",
        "    for file in files:\n",
        "        fullPath = os.path.join(root, file)\n",
        "        allFiles.append(fullPath)\n",
        "  return allFiles\n",
        "\n",
        "def load_image_with_path(image_path):\n",
        "    img = cv2.imread(image_path)\n",
        "    img = cv2.resize(img, (150, 150), interpolation=cv2.INTER_AREA)\n",
        "    label = os.path.basename(os.path.dirname(image_path))\n",
        "    return img, label, image_path\n",
        "\n",
        "def prepare_data(dataset, num_workers=2):\n",
        "    with multiprocessing.Pool(num_workers) as pool:\n",
        "        results = pool.map(load_image_with_path, dataset)\n",
        "\n",
        "    data = [res[0] for res in results]\n",
        "    labels = [res[1] for res in results]\n",
        "    paths = [res[2] for res in results]\n",
        "\n",
        "    return np.array(data), np.array(labels), paths"
      ],
      "metadata": {
        "id": "2d81WL6J8H0M"
      },
      "id": "2d81WL6J8H0M",
      "execution_count": 5,
      "outputs": []
    },
    {
      "cell_type": "code",
      "source": [
        "train_ds = get_list_of_files(\"/content/drive/MyDrive/Research Leaf/ASHIIQ/compute_ashiq/Train\")\n",
        "test_ds = get_list_of_files(\"/content/drive/MyDrive/Research Leaf/ASHIIQ/compute_ashiq/Test\")"
      ],
      "metadata": {
        "id": "bFKHfR-k8XCZ"
      },
      "id": "bFKHfR-k8XCZ",
      "execution_count": 17,
      "outputs": []
    },
    {
      "cell_type": "code",
      "source": [
        "X_train, y_train, train_paths = prepare_data(train_ds, 2)\n",
        "X_test, y_test, test_paths = prepare_data(test_ds, 2)"
      ],
      "metadata": {
        "id": "U0oHmSC78XZl"
      },
      "id": "U0oHmSC78XZl",
      "execution_count": 18,
      "outputs": []
    },
    {
      "cell_type": "markdown",
      "source": [
        "# Image Processing"
      ],
      "metadata": {
        "id": "pL4XVqLa8cbD"
      },
      "id": "pL4XVqLa8cbD"
    },
    {
      "cell_type": "markdown",
      "source": [
        "## Remove Background"
      ],
      "metadata": {
        "id": "rfoS6FfS8eeP"
      },
      "id": "rfoS6FfS8eeP"
    },
    {
      "cell_type": "code",
      "source": [
        "def remove_background_binary(image):\n",
        "    hsv_image = cv2.cvtColor(image, cv2.COLOR_BGR2HSV)\n",
        "    saturation = hsv_image[:, :, 1]\n",
        "    _, binary_mask = cv2.threshold(saturation, 85, 255, cv2.THRESH_BINARY)\n",
        "    masked_image = cv2.bitwise_and(image, image, mask=binary_mask)\n",
        "    return masked_image"
      ],
      "metadata": {
        "id": "BJmnUMYy8Y50"
      },
      "id": "BJmnUMYy8Y50",
      "execution_count": 8,
      "outputs": []
    },
    {
      "cell_type": "markdown",
      "source": [
        "## Find Optimal Cluster"
      ],
      "metadata": {
        "id": "7-NuYMi181WV"
      },
      "id": "7-NuYMi181WV"
    },
    {
      "cell_type": "code",
      "source": [
        "def find_optimal_k(gaps, s_k, max_k):\n",
        "    for k in range(1, max_k):\n",
        "        if gaps[k - 1] >= gaps[k] - s_k[k]:\n",
        "            return k\n",
        "    return max_k\n",
        "\n",
        "def gap_statistic_for_k(pixel_values, k, n_refs=10, random_state=42):\n",
        "    kmeans = KMeans(n_clusters=k, random_state=random_state, n_init='auto')\n",
        "    kmeans.fit(pixel_values)\n",
        "\n",
        "    disp = np.sum(np.min(pairwise_distances(pixel_values, kmeans.cluster_centers_, metric='euclidean')**2, axis=1))\n",
        "\n",
        "    ref_disps = np.zeros(n_refs)\n",
        "    for i in range(n_refs):\n",
        "        random_reference = np.random.uniform(\n",
        "            low=pixel_values.min(axis=0),\n",
        "            high=pixel_values.max(axis=0),\n",
        "            size=pixel_values.shape\n",
        "        )\n",
        "        kmeans.fit(random_reference)\n",
        "        ref_disps[i] = np.sum(np.min(pairwise_distances(random_reference, kmeans.cluster_centers_, metric='euclidean')**2, axis=1))\n",
        "\n",
        "    log_ref_disp = np.log(ref_disps + 1e-10)\n",
        "    gap = np.mean(log_ref_disp) - np.log(disp + 1e-10)\n",
        "    s_k = np.sqrt(np.sum((log_ref_disp - np.mean(log_ref_disp))**2) / n_refs)\n",
        "    return gap, s_k\n",
        "\n",
        "def calculate_gap_statistic(image, max_k=10, n_refs=10, random_state=42):\n",
        "    pixel_values = np.ascontiguousarray(image.reshape((-1, 3)))\n",
        "    gaps = np.zeros(max_k)\n",
        "    s_k = np.zeros(max_k)\n",
        "\n",
        "    for k in range(1, max_k + 1):\n",
        "        gap, sk = gap_statistic_for_k(pixel_values, k, n_refs=n_refs, random_state=random_state)\n",
        "        gaps[k - 1] = gap\n",
        "        s_k[k - 1] = sk\n",
        "\n",
        "    return gaps, s_k"
      ],
      "metadata": {
        "id": "1sjvwjC58tLc"
      },
      "id": "1sjvwjC58tLc",
      "execution_count": 30,
      "outputs": []
    },
    {
      "cell_type": "markdown",
      "source": [
        "# Image Segmentation"
      ],
      "metadata": {
        "id": "Lu-nWk34-dF8"
      },
      "id": "Lu-nWk34-dF8"
    },
    {
      "cell_type": "code",
      "source": [
        "def k_mean_segmentation(disease, attempts=10, K=2):\n",
        "    disease = remove_background_binary(disease)\n",
        "    leaf_image = disease.reshape((-1, 3)).astype(np.float32)\n",
        "    criteria = (cv2.TERM_CRITERIA_EPS + cv2.TERM_CRITERIA_MAX_ITER, 10, 1.0)\n",
        "    _, labels, centers = cv2.kmeans(leaf_image, K, None, criteria, attempts, cv2.KMEANS_PP_CENTERS)\n",
        "    centers = np.uint8(centers)\n",
        "    segmented_image = centers[labels.flatten()].reshape(disease.shape)\n",
        "    return segmented_image, labels, centers\n",
        "\n",
        "def segment_image(image, K=2):\n",
        "    return k_mean_segmentation(image, K=K)\n",
        "\n",
        "def process_image(args):\n",
        "    image, max_k = args\n",
        "    gaps, s_k = calculate_gap_statistic(image, max_k=max_k)\n",
        "    optimal_k = find_optimal_k(gaps, s_k, max_k)\n",
        "    return k_mean_segmentation(image, K=optimal_k)\n",
        "\n",
        "def parallel_segmentation(images, max_k=10, num_workers=2):\n",
        "    with multiprocessing.get_context(\"fork\").Pool(processes=num_workers) as pool:\n",
        "        args = [(image, max_k) for image in images]\n",
        "        results = pool.map(process_image, args)\n",
        "    return results"
      ],
      "metadata": {
        "id": "l8X9R31B-ZQe"
      },
      "id": "l8X9R31B-ZQe",
      "execution_count": 31,
      "outputs": []
    },
    {
      "cell_type": "markdown",
      "source": [
        "---"
      ],
      "metadata": {
        "id": "gf_h3VFX_Ytp"
      },
      "id": "gf_h3VFX_Ytp"
    },
    {
      "cell_type": "markdown",
      "source": [
        "# Divider"
      ],
      "metadata": {
        "id": "TNaH5dHK_aWN"
      },
      "id": "TNaH5dHK_aWN"
    },
    {
      "cell_type": "markdown",
      "source": [
        "---"
      ],
      "metadata": {
        "id": "26NQiDda_dKt"
      },
      "id": "26NQiDda_dKt"
    },
    {
      "cell_type": "code",
      "source": [
        "train_segmented_images = parallel_segmentation(X_train, max_k=10, num_workers=2)"
      ],
      "metadata": {
        "id": "7GED1ehM_vDa"
      },
      "id": "7GED1ehM_vDa",
      "execution_count": 13,
      "outputs": []
    },
    {
      "cell_type": "code",
      "source": [
        "test_segmented_images = parallel_segmentation(X_test, max_k=10, num_workers=2)"
      ],
      "metadata": {
        "id": "co7Xa1YG_9Eq"
      },
      "id": "co7Xa1YG_9Eq",
      "execution_count": 14,
      "outputs": []
    },
    {
      "cell_type": "code",
      "source": [
        "def extract_features(segmented_images):\n",
        "    features = []\n",
        "\n",
        "    for segmented_portion in segmented_images:\n",
        "        image_features = []\n",
        "\n",
        "        for cluster in segmented_portion:\n",
        "            hsv_cluster = cv2.cvtColor(cluster, cv2.COLOR_BGR2HSV) if len(cluster.shape) == 3 else cluster\n",
        "\n",
        "            mean_hsv = hsv_cluster.mean(axis=(0, 1))\n",
        "\n",
        "            image_features.extend(mean_hsv)\n",
        "\n",
        "        features.append(image_features)\n",
        "\n",
        "    return np.array(features)"
      ],
      "metadata": {
        "id": "nRFjN3lB_Qq_"
      },
      "id": "nRFjN3lB_Qq_",
      "execution_count": null,
      "outputs": []
    },
    {
      "cell_type": "markdown",
      "source": [
        "# Testing Divider"
      ],
      "metadata": {
        "id": "j-_G0l20AktV"
      },
      "id": "j-_G0l20AktV"
    },
    {
      "cell_type": "code",
      "source": [
        "test_image = cv2.imread(\"/content/drive/MyDrive/Research Leaf/ASHIIQ/compute_ashiq/Train/Bacterial Blight/0.jpg\")\n",
        "test_image = cv2.resize(test_image, (150, 150), interpolation=cv2.INTER_AREA)\n",
        "\n",
        "test_result = parallel_segmentation([test_image], max_k=10, num_workers=2)\n",
        "\n",
        "segmented_image, labels, centers = test_result[0]"
      ],
      "metadata": {
        "id": "zHZovE53AphE"
      },
      "id": "zHZovE53AphE",
      "execution_count": 32,
      "outputs": []
    },
    {
      "cell_type": "code",
      "source": [],
      "metadata": {
        "id": "HuNFTxdpBpU0"
      },
      "id": "HuNFTxdpBpU0",
      "execution_count": null,
      "outputs": []
    }
  ],
  "metadata": {
    "kernelspec": {
      "display_name": "Python 3",
      "language": "python",
      "name": "python3"
    },
    "language_info": {
      "codemirror_mode": {
        "name": "ipython",
        "version": 2
      },
      "file_extension": ".py",
      "mimetype": "text/x-python",
      "name": "python",
      "nbconvert_exporter": "python",
      "pygments_lexer": "ipython2",
      "version": "2.7.6"
    },
    "colab": {
      "provenance": [],
      "toc_visible": true
    }
  },
  "nbformat": 4,
  "nbformat_minor": 5
}
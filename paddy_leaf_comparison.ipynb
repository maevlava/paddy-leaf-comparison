{
  "cells": [
    {
      "cell_type": "markdown",
      "source": [
        "# Imports"
      ],
      "metadata": {
        "id": "n8QFbrvN_UNU"
      },
      "id": "n8QFbrvN_UNU"
    },
    {
      "cell_type": "code",
      "source": [
        "!pip install scikit-posthocs"
      ],
      "metadata": {
        "id": "YuukO45EGLEx"
      },
      "id": "YuukO45EGLEx",
      "execution_count": null,
      "outputs": []
    },
    {
      "cell_type": "code",
      "source": [
        "# Files\n",
        "import os\n",
        "\n",
        "# Linear Algebra\n",
        "import numpy as np\n",
        "\n",
        "# Multi thread & processing\n",
        "import multiprocessing\n",
        "\n",
        "# Visualization\n",
        "import matplotlib.pyplot as plt\n",
        "import seaborn as sns\n",
        "\n",
        "# Machine learning general and Data Modelling\n",
        "import pandas as pd\n",
        "import sklearn\n",
        "from sklearn.cluster import KMeans\n",
        "from sklearn.metrics import pairwise_distances\n",
        "from sklearn.preprocessing import LabelEncoder, StandardScaler, MinMaxScaler\n",
        "\n",
        "# Image processing\n",
        "import cv2\n",
        "\n",
        "# Evaluation\n",
        "from sklearn.metrics import accuracy_score, precision_score, recall_score, f1_score\n",
        "from sklearn.model_selection import learning_curve, cross_val_score\n",
        "import scikit_posthocs as sp\n",
        "from scipy.stats import friedmanchisquare\n",
        "\n",
        "# Models\n",
        "from sklearn.neighbors import KNeighborsClassifier\n",
        "from sklearn.svm import SVC\n",
        "from sklearn.naive_bayes import GaussianNB\n",
        "from sklearn.ensemble import RandomForestClassifier\n",
        "from sklearn.tree import DecisionTreeClassifier"
      ],
      "metadata": {
        "id": "nTJxYE1c73B4"
      },
      "id": "nTJxYE1c73B4",
      "execution_count": 45,
      "outputs": []
    },
    {
      "cell_type": "code",
      "source": [
        "from google.colab import drive\n",
        "drive.mount('/content/drive')"
      ],
      "metadata": {
        "colab": {
          "base_uri": "https://localhost:8080/"
        },
        "id": "GIzdsJew7svu",
        "outputId": "77d96ec7-6e2e-44ac-ea99-45d250e08989"
      },
      "id": "GIzdsJew7svu",
      "execution_count": 2,
      "outputs": [
        {
          "output_type": "stream",
          "name": "stdout",
          "text": [
            "Mounted at /content/drive\n"
          ]
        }
      ]
    },
    {
      "cell_type": "markdown",
      "source": [
        "# Prepare Dataset"
      ],
      "metadata": {
        "id": "7-N8TejO8FEK"
      },
      "id": "7-N8TejO8FEK"
    },
    {
      "cell_type": "code",
      "source": [
        "def get_list_of_files(directory):\n",
        "  allFiles = []\n",
        "  for root, dirs, files in os.walk(directory):\n",
        "    for file in files:\n",
        "        fullPath = os.path.join(root, file)\n",
        "        allFiles.append(fullPath)\n",
        "  return allFiles\n",
        "\n",
        "def load_image_with_path(image_path):\n",
        "    img = cv2.imread(image_path)\n",
        "    img = cv2.resize(img, (150, 150), interpolation=cv2.INTER_AREA)\n",
        "    label = os.path.basename(os.path.dirname(image_path))\n",
        "    return img, label, image_path\n",
        "\n",
        "def prepare_data(dataset, num_workers=2):\n",
        "    with multiprocessing.Pool(num_workers) as pool:\n",
        "        results = pool.map(load_image_with_path, dataset)\n",
        "\n",
        "    data = [res[0] for res in results]\n",
        "    labels = [res[1] for res in results]\n",
        "    paths = [res[2] for res in results]\n",
        "\n",
        "    return np.array(data), np.array(labels), paths"
      ],
      "metadata": {
        "id": "2d81WL6J8H0M"
      },
      "id": "2d81WL6J8H0M",
      "execution_count": 3,
      "outputs": []
    },
    {
      "cell_type": "code",
      "source": [
        "train_ds = get_list_of_files(\"/content/drive/MyDrive/Research Leaf/ASHIIQ/compute_ashiq/Train\")\n",
        "test_ds = get_list_of_files(\"/content/drive/MyDrive/Research Leaf/ASHIIQ/compute_ashiq/Test\")"
      ],
      "metadata": {
        "id": "bFKHfR-k8XCZ"
      },
      "id": "bFKHfR-k8XCZ",
      "execution_count": 4,
      "outputs": []
    },
    {
      "cell_type": "code",
      "source": [
        "X_train, y_train, train_paths = prepare_data(train_ds, 2)\n",
        "X_test, y_test, test_paths = prepare_data(test_ds, 2)"
      ],
      "metadata": {
        "id": "U0oHmSC78XZl"
      },
      "id": "U0oHmSC78XZl",
      "execution_count": 5,
      "outputs": []
    },
    {
      "cell_type": "markdown",
      "source": [
        "# Image Processing"
      ],
      "metadata": {
        "id": "pL4XVqLa8cbD"
      },
      "id": "pL4XVqLa8cbD"
    },
    {
      "cell_type": "markdown",
      "source": [
        "## Remove Background"
      ],
      "metadata": {
        "id": "rfoS6FfS8eeP"
      },
      "id": "rfoS6FfS8eeP"
    },
    {
      "cell_type": "code",
      "source": [
        "def remove_background_binary(image):\n",
        "    hsv_image = cv2.cvtColor(image, cv2.COLOR_BGR2HSV)\n",
        "    saturation = hsv_image[:, :, 1]\n",
        "    _, binary_mask = cv2.threshold(saturation, 85, 255, cv2.THRESH_BINARY)\n",
        "    masked_image = cv2.bitwise_and(image, image, mask=binary_mask)\n",
        "    return masked_image"
      ],
      "metadata": {
        "id": "BJmnUMYy8Y50"
      },
      "id": "BJmnUMYy8Y50",
      "execution_count": 6,
      "outputs": []
    },
    {
      "cell_type": "markdown",
      "source": [
        "## Find Optimal Cluster"
      ],
      "metadata": {
        "id": "7-NuYMi181WV"
      },
      "id": "7-NuYMi181WV"
    },
    {
      "cell_type": "code",
      "source": [
        "def find_optimal_k(gaps, s_k, max_k):\n",
        "    for k in range(1, max_k):\n",
        "        if gaps[k - 1] >= gaps[k] - s_k[k]:\n",
        "            return k\n",
        "    return max_k\n",
        "\n",
        "def gap_statistic_for_k(pixel_values, k, n_refs=10, random_state=42):\n",
        "    kmeans = KMeans(n_clusters=k, random_state=random_state, n_init='auto')\n",
        "    kmeans.fit(pixel_values)\n",
        "\n",
        "    disp = np.sum(np.min(pairwise_distances(pixel_values, kmeans.cluster_centers_, metric='euclidean')**2, axis=1))\n",
        "\n",
        "    ref_disps = np.zeros(n_refs)\n",
        "    for i in range(n_refs):\n",
        "        random_reference = np.random.uniform(\n",
        "            low=pixel_values.min(axis=0),\n",
        "            high=pixel_values.max(axis=0),\n",
        "            size=pixel_values.shape\n",
        "        )\n",
        "        kmeans.fit(random_reference)\n",
        "        ref_disps[i] = np.sum(np.min(pairwise_distances(random_reference, kmeans.cluster_centers_, metric='euclidean')**2, axis=1))\n",
        "\n",
        "    log_ref_disp = np.log(ref_disps + 1e-10)\n",
        "    gap = np.mean(log_ref_disp) - np.log(disp + 1e-10)\n",
        "    s_k = np.sqrt(np.sum((log_ref_disp - np.mean(log_ref_disp))**2) / n_refs)\n",
        "    return gap, s_k\n",
        "\n",
        "def calculate_gap_statistic(image, max_k=10, n_refs=10, random_state=42):\n",
        "    pixel_values = np.ascontiguousarray(image.reshape((-1, 3)))\n",
        "    gaps = np.zeros(max_k)\n",
        "    s_k = np.zeros(max_k)\n",
        "\n",
        "    for k in range(1, max_k + 1):\n",
        "        gap, sk = gap_statistic_for_k(pixel_values, k, n_refs=n_refs, random_state=random_state)\n",
        "        gaps[k - 1] = gap\n",
        "        s_k[k - 1] = sk\n",
        "\n",
        "    return gaps, s_k"
      ],
      "metadata": {
        "id": "1sjvwjC58tLc"
      },
      "id": "1sjvwjC58tLc",
      "execution_count": 7,
      "outputs": []
    },
    {
      "cell_type": "markdown",
      "source": [
        "# Image Segmentation"
      ],
      "metadata": {
        "id": "Lu-nWk34-dF8"
      },
      "id": "Lu-nWk34-dF8"
    },
    {
      "cell_type": "code",
      "source": [
        "def k_mean_segmentation(disease, attempts=10, K=2):\n",
        "    disease = remove_background_binary(disease)\n",
        "    leaf_image = disease.reshape((-1, 3)).astype(np.float32)\n",
        "    criteria = (cv2.TERM_CRITERIA_EPS + cv2.TERM_CRITERIA_MAX_ITER, 10, 1.0)\n",
        "    _, labels, centers = cv2.kmeans(leaf_image, K, None, criteria, attempts, cv2.KMEANS_PP_CENTERS)\n",
        "    centers = np.uint8(centers)\n",
        "    segmented_image = centers[labels.flatten()].reshape(disease.shape)\n",
        "    return segmented_image, labels, centers\n",
        "\n",
        "def segment_image(image, K=2):\n",
        "    return k_mean_segmentation(image, K=K)\n",
        "\n",
        "def process_image(args):\n",
        "    image, max_k = args\n",
        "    # gaps, s_k = calculate_gap_statistic(image, max_k=max_k)\n",
        "    # optimal_k = find_optimal_k(gaps, s_k, max_k)\n",
        "    return k_mean_segmentation(image, K=8)\n",
        "\n",
        "def parallel_segmentation(images, max_k=10, num_workers=2):\n",
        "    with multiprocessing.get_context(\"fork\").Pool(processes=num_workers) as pool:\n",
        "        args = [(image, max_k) for image in images]\n",
        "        results = pool.map(process_image, args)\n",
        "    return results"
      ],
      "metadata": {
        "id": "l8X9R31B-ZQe"
      },
      "id": "l8X9R31B-ZQe",
      "execution_count": 8,
      "outputs": []
    },
    {
      "cell_type": "markdown",
      "source": [
        "# Feature Extraction"
      ],
      "metadata": {
        "id": "22fgwv9zAnat"
      },
      "id": "22fgwv9zAnat"
    },
    {
      "cell_type": "code",
      "source": [
        "def extract_features(segmented_results, labels, centers):\n",
        "    \"\"\"\n",
        "    Extract mean HSV features from segmented images and flatten them.\n",
        "\n",
        "    Parameters:\n",
        "    - segmented_results: List of segmented images (output from k_mean_segmentation).\n",
        "    - labels: List of label arrays corresponding to each image.\n",
        "    - centers: List of cluster center arrays corresponding to each image.\n",
        "\n",
        "    Returns:\n",
        "    - features: Flattened HSV features for all images.\n",
        "    \"\"\"\n",
        "    features = []\n",
        "\n",
        "    for segmented_image, label_array, center_array in zip(segmented_results, labels, centers):\n",
        "        hsv_image = cv2.cvtColor(segmented_image, cv2.COLOR_BGR2HSV)\n",
        "\n",
        "        image_features = []\n",
        "        num_clusters = len(center_array)\n",
        "\n",
        "        for cluster_id in range(num_clusters):\n",
        "            cluster_mask = (label_array.reshape(segmented_image.shape[:2]) == cluster_id)\n",
        "\n",
        "            cluster_pixels = hsv_image[cluster_mask]\n",
        "\n",
        "            if cluster_pixels.size > 0:\n",
        "                mean_hsv = cluster_pixels.mean(axis=0)\n",
        "            else:\n",
        "                mean_hsv = [0, 0, 0]\n",
        "\n",
        "            image_features.extend(mean_hsv)\n",
        "\n",
        "        features.append(image_features)\n",
        "\n",
        "    return np.array(features)"
      ],
      "metadata": {
        "id": "IJFe1X7VApCO"
      },
      "id": "IJFe1X7VApCO",
      "execution_count": 17,
      "outputs": []
    },
    {
      "cell_type": "markdown",
      "source": [
        "# Normalization"
      ],
      "metadata": {
        "id": "aJsG4VLLAxKM"
      },
      "id": "aJsG4VLLAxKM"
    },
    {
      "cell_type": "code",
      "source": [
        "def normalize_features(features, method=\"standard\"):\n",
        "    \"\"\"\n",
        "    Normalize or standardize features.\n",
        "\n",
        "    Parameters:\n",
        "    - features: Feature matrix (NumPy array)\n",
        "    - method: Normalization method, \"standard\" (default) or \"minmax\".\n",
        "\n",
        "    Returns:\n",
        "    - Normalized feature matrix.\n",
        "    \"\"\"\n",
        "    if method == \"standard\":\n",
        "        scaler = StandardScaler()\n",
        "    elif method == \"minmax\":\n",
        "        scaler = MinMaxScaler()\n",
        "    else:\n",
        "        raise ValueError(\"Invalid method. Choose 'standard' or 'minmax'.\")\n",
        "\n",
        "    return scaler.fit_transform(features)"
      ],
      "metadata": {
        "id": "AIO_QzsXA03c"
      },
      "id": "AIO_QzsXA03c",
      "execution_count": 19,
      "outputs": []
    },
    {
      "cell_type": "markdown",
      "source": [
        "---"
      ],
      "metadata": {
        "id": "gf_h3VFX_Ytp"
      },
      "id": "gf_h3VFX_Ytp"
    },
    {
      "cell_type": "markdown",
      "source": [
        "# Execution"
      ],
      "metadata": {
        "id": "TNaH5dHK_aWN"
      },
      "id": "TNaH5dHK_aWN"
    },
    {
      "cell_type": "markdown",
      "source": [
        "---"
      ],
      "metadata": {
        "id": "26NQiDda_dKt"
      },
      "id": "26NQiDda_dKt"
    },
    {
      "cell_type": "code",
      "source": [
        "train_segmented_images = parallel_segmentation(X_train, max_k=8, num_workers=2)"
      ],
      "metadata": {
        "id": "7GED1ehM_vDa"
      },
      "id": "7GED1ehM_vDa",
      "execution_count": 9,
      "outputs": []
    },
    {
      "cell_type": "code",
      "source": [
        "test_segmented_images = parallel_segmentation(X_test, max_k=8, num_workers=2)"
      ],
      "metadata": {
        "id": "co7Xa1YG_9Eq"
      },
      "id": "co7Xa1YG_9Eq",
      "execution_count": 10,
      "outputs": []
    },
    {
      "cell_type": "markdown",
      "source": [
        "# Testing Divider"
      ],
      "metadata": {
        "id": "j-_G0l20AktV"
      },
      "id": "j-_G0l20AktV"
    },
    {
      "cell_type": "code",
      "source": [
        "train_segmented = [segmented_image for segmented_image, _, _ in train_segmented_images]\n",
        "train_labels = [label for _, label, _ in train_segmented_images]\n",
        "train_centers = [center for _, _, center in train_segmented_images]"
      ],
      "metadata": {
        "id": "HuNFTxdpBpU0"
      },
      "id": "HuNFTxdpBpU0",
      "execution_count": 12,
      "outputs": []
    },
    {
      "cell_type": "code",
      "source": [
        "test_segmented = [segmented_image for segmented_image, _, _ in test_segmented_images]\n",
        "test_labels = [label for _, label, _ in test_segmented_images]\n",
        "test_centers = [center for _, _, center in test_segmented_images]"
      ],
      "metadata": {
        "id": "b9qRfnXt5zFr"
      },
      "id": "b9qRfnXt5zFr",
      "execution_count": 13,
      "outputs": []
    },
    {
      "cell_type": "code",
      "source": [
        "X_train = extract_features(train_segmented, train_labels, train_centers)\n",
        "X_test = extract_features(test_segmented, test_labels, test_centers)"
      ],
      "metadata": {
        "id": "ZywxKYq3brzl"
      },
      "id": "ZywxKYq3brzl",
      "execution_count": 20,
      "outputs": []
    },
    {
      "cell_type": "code",
      "source": [
        "X_train_normalized = normalize_features(X_train, method=\"minmax\")\n",
        "X_test_normalized = normalize_features(X_test, method=\"minmax\")"
      ],
      "metadata": {
        "id": "8ZxKJgT97_yb"
      },
      "id": "8ZxKJgT97_yb",
      "execution_count": 21,
      "outputs": []
    },
    {
      "cell_type": "code",
      "source": [
        "label_encoder = LabelEncoder()\n",
        "y_train_encoded = label_encoder.fit_transform(y_train)\n",
        "y_test_encoded = label_encoder.transform(y_test)"
      ],
      "metadata": {
        "id": "ShkMHboy91MX"
      },
      "id": "ShkMHboy91MX",
      "execution_count": 22,
      "outputs": []
    },
    {
      "cell_type": "markdown",
      "source": [
        "# Evaluation"
      ],
      "metadata": {
        "id": "mw5mYRwN9lLB"
      },
      "id": "mw5mYRwN9lLB"
    },
    {
      "cell_type": "code",
      "source": [
        "def evaluate_confusion_matrix(models, X_train, y_train, X_test, y_test):\n",
        "    \"\"\"\n",
        "    Evaluate multiple models on the test set using accuracy, precision, and recall.\n",
        "\n",
        "    Parameters:\n",
        "    - models: Dictionary of model names and instantiated objects.\n",
        "    - X_train, y_train: Training features and labels.\n",
        "    - X_test, y_test: Testing features and labels.\n",
        "\n",
        "    Returns:\n",
        "    - Results as a dictionary.\n",
        "    \"\"\"\n",
        "    results = {}\n",
        "    for name, model in models.items():\n",
        "        model.fit(X_train, y_train)\n",
        "        y_pred = model.predict(X_test)\n",
        "        results[name] = {\n",
        "            \"Accuracy\": accuracy_score(y_test, y_pred),\n",
        "            \"Precision\": precision_score(y_test, y_pred, average='weighted'),\n",
        "            \"Recall\": recall_score(y_test, y_pred, average='weighted'),\n",
        "            \"F1 Score\": f1_score(y_test, y_pred, average='weighted'),\n",
        "        }\n",
        "    return results"
      ],
      "metadata": {
        "id": "gELkYcenEaji"
      },
      "id": "gELkYcenEaji",
      "execution_count": 40,
      "outputs": []
    },
    {
      "cell_type": "code",
      "source": [
        "def evaluate_learning_curves(models, X, y, cv=5, scoring=\"accuracy\"):\n",
        "    \"\"\"\n",
        "    evaluate learning curves for multiple models.\n",
        "\n",
        "    Parameters:\n",
        "    - models: Dictionary of model names and instantiated models.\n",
        "    - X: Features.\n",
        "    - y: Labels.\n",
        "    - cv: Number of cross-validation folds.\n",
        "    - scoring: Scoring metric.\n",
        "    \"\"\"\n",
        "    plt.figure(figsize=(15, 8))\n",
        "\n",
        "    for name, model in models.items():\n",
        "        train_sizes, train_scores, test_scores = learning_curve(\n",
        "            model, X, y, cv=cv, scoring=scoring, n_jobs=-1\n",
        "        )\n",
        "        train_mean = np.mean(train_scores, axis=1)\n",
        "        train_std = np.std(train_scores, axis=1)\n",
        "        test_mean = np.mean(test_scores, axis=1)\n",
        "        test_std = np.std(test_scores, axis=1)\n",
        "\n",
        "        plt.plot(train_sizes, test_mean, label=f\"{name} (CV Score)\", marker=\"o\")\n",
        "        plt.fill_between(train_sizes, test_mean - test_std, test_mean + test_std, alpha=0.2)\n",
        "\n",
        "    plt.title(\"Learning Curves for Multiple Models\")\n",
        "    plt.xlabel(\"Training Size\")\n",
        "    plt.ylabel(scoring.capitalize())\n",
        "    plt.legend()\n",
        "    plt.grid()\n",
        "    plt.show()"
      ],
      "metadata": {
        "id": "S8QuFO9wFtY3"
      },
      "id": "S8QuFO9wFtY3",
      "execution_count": null,
      "outputs": []
    },
    {
      "cell_type": "code",
      "source": [
        "models = {\n",
        "    \"Decision Tree\": DecisionTreeClassifier(random_state=42),\n",
        "    \"Random Forest\": RandomForestClassifier(random_state=42),\n",
        "    \"SVM\": SVC(kernel='linear', C=1.0),\n",
        "    \"Naive Bayes\": GaussianNB(),\n",
        "    \"KNN\": KNeighborsClassifier(n_neighbors=3),\n",
        "}\n",
        "results = evaluate_confusion_matrix(models, X_train_normalized, y_train, X_test_normalized, y_test)\n",
        "for model, metrics in results.items():\n",
        "    print(f\"{model} Performance:\")\n",
        "    for metric, value in metrics.items():\n",
        "        print(f\"  {metric}: {value:.2f}\")\n",
        "    print()"
      ],
      "metadata": {
        "id": "liAw6HMhEkS8"
      },
      "id": "liAw6HMhEkS8",
      "execution_count": null,
      "outputs": []
    },
    {
      "cell_type": "code",
      "source": [],
      "metadata": {
        "id": "whVS2e0TEwrk"
      },
      "id": "whVS2e0TEwrk",
      "execution_count": null,
      "outputs": []
    }
  ],
  "metadata": {
    "kernelspec": {
      "display_name": "Python 3",
      "language": "python",
      "name": "python3"
    },
    "language_info": {
      "codemirror_mode": {
        "name": "ipython",
        "version": 2
      },
      "file_extension": ".py",
      "mimetype": "text/x-python",
      "name": "python",
      "nbconvert_exporter": "python",
      "pygments_lexer": "ipython2",
      "version": "2.7.6"
    },
    "colab": {
      "provenance": []
    }
  },
  "nbformat": 4,
  "nbformat_minor": 5
}